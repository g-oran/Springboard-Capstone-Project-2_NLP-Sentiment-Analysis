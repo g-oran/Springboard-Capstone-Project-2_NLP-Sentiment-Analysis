{
 "cells": [
  {
   "cell_type": "markdown",
   "metadata": {},
   "source": [
    "# Amazon Home and Kitchen Products Review-Sentiment Analysis-Data Wrangling"
   ]
  },
  {
   "cell_type": "markdown",
   "metadata": {},
   "source": [
    "### Import Necessary Libraries"
   ]
  },
  {
   "cell_type": "code",
   "execution_count": 1,
   "metadata": {},
   "outputs": [],
   "source": [
    "# Dataframe\n",
    "import pandas as pd\n",
    "\n",
    "# Array\n",
    "import numpy as np\n",
    "\n",
    "# Decompress the file\n",
    "import gzip\n",
    "\n",
    "# Visualizations\n",
    "import matplotlib.pyplot as plt\n",
    "from matplotlib.colors import ListedColormap\n",
    "import seaborn as sns\n",
    "import matplotlib.colors as colors\n",
    "%matplotlib inline\n",
    "\n",
    "# Datetime\n",
    "from datetime import datetime\n",
    "\n",
    "## Warnings\n",
    "import warnings\n",
    "from scipy import stats\n",
    "warnings.filterwarnings('ignore')"
   ]
  },
  {
   "cell_type": "markdown",
   "metadata": {},
   "source": [
    "### Decompress the Amazon Review Dataset\n",
    "The dataset is obtained from http://seotest.ciberius.info/seo--snap.stanford.edu/data/amazon/productGraph/categoryFiles/reviews_Home_and_Kitchen_10.json.gz link and uploaded into Jupyter notebook via the following code."
   ]
  },
  {
   "cell_type": "code",
   "execution_count": 2,
   "metadata": {},
   "outputs": [],
   "source": [
    "def parse(path):\n",
    "  g = gzip.open(path, 'rb')\n",
    "  for l in g:\n",
    "    yield eval(l)\n",
    "\n",
    "def getDF(path):\n",
    "  i = 0\n",
    "  df = {}\n",
    "  for d in parse(path):\n",
    "    df[i] = d\n",
    "    i += 1\n",
    "  return pd.DataFrame.from_dict(df, orient='index')\n",
    "\n",
    "df = getDF('D:\\GENEL\\SPRINGBOARD\\PROJECTS\\CAPSTONE PROJECTS\\CAPSTONE PROJECT-2/reviews_Home_and_Kitchen_10.json.gz')"
   ]
  },
  {
   "cell_type": "markdown",
   "metadata": {},
   "source": [
    "### Inspecting the Dataset"
   ]
  },
  {
   "cell_type": "code",
   "execution_count": 3,
   "metadata": {},
   "outputs": [
    {
     "data": {
      "text/plain": [
       "(25445, 9)"
      ]
     },
     "execution_count": 3,
     "metadata": {},
     "output_type": "execute_result"
    }
   ],
   "source": [
    "# Shape of the dataset\n",
    "df.shape"
   ]
  },
  {
   "cell_type": "code",
   "execution_count": 4,
   "metadata": {},
   "outputs": [
    {
     "data": {
      "text/html": [
       "<div>\n",
       "<style scoped>\n",
       "    .dataframe tbody tr th:only-of-type {\n",
       "        vertical-align: middle;\n",
       "    }\n",
       "\n",
       "    .dataframe tbody tr th {\n",
       "        vertical-align: top;\n",
       "    }\n",
       "\n",
       "    .dataframe thead th {\n",
       "        text-align: right;\n",
       "    }\n",
       "</style>\n",
       "<table border=\"1\" class=\"dataframe\">\n",
       "  <thead>\n",
       "    <tr style=\"text-align: right;\">\n",
       "      <th></th>\n",
       "      <th>reviewerID</th>\n",
       "      <th>asin</th>\n",
       "      <th>reviewerName</th>\n",
       "      <th>helpful</th>\n",
       "      <th>reviewText</th>\n",
       "      <th>overall</th>\n",
       "      <th>summary</th>\n",
       "      <th>unixReviewTime</th>\n",
       "      <th>reviewTime</th>\n",
       "    </tr>\n",
       "  </thead>\n",
       "  <tbody>\n",
       "    <tr>\n",
       "      <th>0</th>\n",
       "      <td>A1115ST6F5CWYP</td>\n",
       "      <td>B00000JGRT</td>\n",
       "      <td>Amalfi Coast Girl</td>\n",
       "      <td>[29, 33]</td>\n",
       "      <td>I have had one of these for about 10 years.  I...</td>\n",
       "      <td>4.0</td>\n",
       "      <td>good for a first ice cream machine</td>\n",
       "      <td>1148256000</td>\n",
       "      <td>05 22, 2006</td>\n",
       "    </tr>\n",
       "    <tr>\n",
       "      <th>1</th>\n",
       "      <td>A188JOXWF4EY1R</td>\n",
       "      <td>B00000JGRT</td>\n",
       "      <td>Ann B. Hibbard \"anbee\"</td>\n",
       "      <td>[4, 4]</td>\n",
       "      <td>We actually found this product on clearance sa...</td>\n",
       "      <td>4.0</td>\n",
       "      <td>Wonderful Product!</td>\n",
       "      <td>1282176000</td>\n",
       "      <td>08 19, 2010</td>\n",
       "    </tr>\n",
       "    <tr>\n",
       "      <th>2</th>\n",
       "      <td>AUAX1QWUCYKSX</td>\n",
       "      <td>B00000JGRT</td>\n",
       "      <td>Ashley S</td>\n",
       "      <td>[1, 1]</td>\n",
       "      <td>This product works great, if the unit kept in ...</td>\n",
       "      <td>5.0</td>\n",
       "      <td>Works as expected</td>\n",
       "      <td>1243555200</td>\n",
       "      <td>05 29, 2009</td>\n",
       "    </tr>\n",
       "    <tr>\n",
       "      <th>3</th>\n",
       "      <td>A2C27IQUH9N1Z</td>\n",
       "      <td>B00000JGRT</td>\n",
       "      <td>audrey</td>\n",
       "      <td>[12, 13]</td>\n",
       "      <td>After trying other ice cream makers with mixed...</td>\n",
       "      <td>5.0</td>\n",
       "      <td>this will be one of your favorite small applia...</td>\n",
       "      <td>1043712000</td>\n",
       "      <td>01 28, 2003</td>\n",
       "    </tr>\n",
       "    <tr>\n",
       "      <th>4</th>\n",
       "      <td>A2PN65B6BSTIYZ</td>\n",
       "      <td>B00000JGRT</td>\n",
       "      <td>B. A. Chaney</td>\n",
       "      <td>[1, 1]</td>\n",
       "      <td>I bought this ice cream maker last summer and ...</td>\n",
       "      <td>5.0</td>\n",
       "      <td>You'll be addicted to homemade ice cream!</td>\n",
       "      <td>1214179200</td>\n",
       "      <td>06 23, 2008</td>\n",
       "    </tr>\n",
       "  </tbody>\n",
       "</table>\n",
       "</div>"
      ],
      "text/plain": [
       "       reviewerID        asin            reviewerName   helpful  \\\n",
       "0  A1115ST6F5CWYP  B00000JGRT       Amalfi Coast Girl  [29, 33]   \n",
       "1  A188JOXWF4EY1R  B00000JGRT  Ann B. Hibbard \"anbee\"    [4, 4]   \n",
       "2   AUAX1QWUCYKSX  B00000JGRT                Ashley S    [1, 1]   \n",
       "3   A2C27IQUH9N1Z  B00000JGRT                  audrey  [12, 13]   \n",
       "4  A2PN65B6BSTIYZ  B00000JGRT            B. A. Chaney    [1, 1]   \n",
       "\n",
       "                                          reviewText  overall  \\\n",
       "0  I have had one of these for about 10 years.  I...      4.0   \n",
       "1  We actually found this product on clearance sa...      4.0   \n",
       "2  This product works great, if the unit kept in ...      5.0   \n",
       "3  After trying other ice cream makers with mixed...      5.0   \n",
       "4  I bought this ice cream maker last summer and ...      5.0   \n",
       "\n",
       "                                             summary  unixReviewTime  \\\n",
       "0                 good for a first ice cream machine      1148256000   \n",
       "1                                 Wonderful Product!      1282176000   \n",
       "2                                  Works as expected      1243555200   \n",
       "3  this will be one of your favorite small applia...      1043712000   \n",
       "4          You'll be addicted to homemade ice cream!      1214179200   \n",
       "\n",
       "    reviewTime  \n",
       "0  05 22, 2006  \n",
       "1  08 19, 2010  \n",
       "2  05 29, 2009  \n",
       "3  01 28, 2003  \n",
       "4  06 23, 2008  "
      ]
     },
     "execution_count": 4,
     "metadata": {},
     "output_type": "execute_result"
    }
   ],
   "source": [
    "# Read the file\n",
    "df.head()"
   ]
  },
  {
   "cell_type": "code",
   "execution_count": 5,
   "metadata": {},
   "outputs": [
    {
     "name": "stdout",
     "output_type": "stream",
     "text": [
      "<class 'pandas.core.frame.DataFrame'>\n",
      "Int64Index: 25445 entries, 0 to 25444\n",
      "Data columns (total 9 columns):\n",
      "reviewerID        25445 non-null object\n",
      "asin              25445 non-null object\n",
      "reviewerName      25276 non-null object\n",
      "helpful           25445 non-null object\n",
      "reviewText        25445 non-null object\n",
      "overall           25445 non-null float64\n",
      "summary           25445 non-null object\n",
      "unixReviewTime    25445 non-null int64\n",
      "reviewTime        25445 non-null object\n",
      "dtypes: float64(1), int64(1), object(7)\n",
      "memory usage: 1.9+ MB\n"
     ]
    }
   ],
   "source": [
    "df.info()"
   ]
  },
  {
   "cell_type": "markdown",
   "metadata": {},
   "source": [
    "#### Each row corresponds to a customers' review information and related variables are explained below:\n",
    "\n",
    "**reviewerID :** ID of the reviewer\n",
    "\n",
    "**asin :** ID of the product\n",
    "\n",
    "**reviewerName :** name of the reviewer\n",
    "\n",
    "**helpful :** helpfulness of the review, e.g. 2/3\n",
    "\n",
    "**reviewText :** text of the review\n",
    "\n",
    "**overall :** rating\n",
    "\n",
    "**summary :** summary of the review\n",
    "\n",
    "**unixReviewTime :** time of the review (unix time)\n",
    "\n",
    "**reviewTime :** time of the review (raw)"
   ]
  },
  {
   "cell_type": "code",
   "execution_count": 6,
   "metadata": {},
   "outputs": [
    {
     "data": {
      "text/plain": [
       "'I bought this Food Chopper to replace an old Cuisinart that was starting to come apart at the blade.  So far, I am not impressed.  I attempted to make hummus and it kept freezing up.  I guess the beans were just too thick.  I tried to thin the beans out with olive oil, remove some, etc., and it still froze up and I did not have any more than the 3 cup limit in the food chopper.For the money, I should have stayed with another Cuisinart.  My Cuisinart held up for about 8 years before the blade stem starting splitting.  I may still order a Cuisinart and keep the Black & Decker for more liquid dishes.'"
      ]
     },
     "execution_count": 6,
     "metadata": {},
     "output_type": "execute_result"
    }
   ],
   "source": [
    "# Inspect a sample 'reviewText'\n",
    "df['reviewText'][1001]"
   ]
  },
  {
   "cell_type": "code",
   "execution_count": 7,
   "metadata": {},
   "outputs": [
    {
     "data": {
      "text/plain": [
       "'I think I should have stuck with my Cuisinart'"
      ]
     },
     "execution_count": 7,
     "metadata": {},
     "output_type": "execute_result"
    }
   ],
   "source": [
    "# Inspect a sample 'summary'\n",
    "df['summary'][1001]"
   ]
  },
  {
   "cell_type": "code",
   "execution_count": 8,
   "metadata": {},
   "outputs": [
    {
     "data": {
      "text/plain": [
       "3.0"
      ]
     },
     "execution_count": 8,
     "metadata": {},
     "output_type": "execute_result"
    }
   ],
   "source": [
    "# Inspect a sample 'overall'\n",
    "df['overall'][1001]"
   ]
  },
  {
   "cell_type": "code",
   "execution_count": 9,
   "metadata": {},
   "outputs": [
    {
     "data": {
      "text/html": [
       "<div>\n",
       "<style scoped>\n",
       "    .dataframe tbody tr th:only-of-type {\n",
       "        vertical-align: middle;\n",
       "    }\n",
       "\n",
       "    .dataframe tbody tr th {\n",
       "        vertical-align: top;\n",
       "    }\n",
       "\n",
       "    .dataframe thead th {\n",
       "        text-align: right;\n",
       "    }\n",
       "</style>\n",
       "<table border=\"1\" class=\"dataframe\">\n",
       "  <thead>\n",
       "    <tr style=\"text-align: right;\">\n",
       "      <th></th>\n",
       "      <th>overall</th>\n",
       "      <th>unixReviewTime</th>\n",
       "    </tr>\n",
       "  </thead>\n",
       "  <tbody>\n",
       "    <tr>\n",
       "      <th>count</th>\n",
       "      <td>25445.000000</td>\n",
       "      <td>2.544500e+04</td>\n",
       "    </tr>\n",
       "    <tr>\n",
       "      <th>mean</th>\n",
       "      <td>4.292867</td>\n",
       "      <td>1.356088e+09</td>\n",
       "    </tr>\n",
       "    <tr>\n",
       "      <th>std</th>\n",
       "      <td>0.914940</td>\n",
       "      <td>5.240118e+07</td>\n",
       "    </tr>\n",
       "    <tr>\n",
       "      <th>min</th>\n",
       "      <td>1.000000</td>\n",
       "      <td>9.588672e+08</td>\n",
       "    </tr>\n",
       "    <tr>\n",
       "      <th>25%</th>\n",
       "      <td>4.000000</td>\n",
       "      <td>1.340842e+09</td>\n",
       "    </tr>\n",
       "    <tr>\n",
       "      <th>50%</th>\n",
       "      <td>5.000000</td>\n",
       "      <td>1.367453e+09</td>\n",
       "    </tr>\n",
       "    <tr>\n",
       "      <th>75%</th>\n",
       "      <td>5.000000</td>\n",
       "      <td>1.392854e+09</td>\n",
       "    </tr>\n",
       "    <tr>\n",
       "      <th>max</th>\n",
       "      <td>5.000000</td>\n",
       "      <td>1.406074e+09</td>\n",
       "    </tr>\n",
       "  </tbody>\n",
       "</table>\n",
       "</div>"
      ],
      "text/plain": [
       "            overall  unixReviewTime\n",
       "count  25445.000000    2.544500e+04\n",
       "mean       4.292867    1.356088e+09\n",
       "std        0.914940    5.240118e+07\n",
       "min        1.000000    9.588672e+08\n",
       "25%        4.000000    1.340842e+09\n",
       "50%        5.000000    1.367453e+09\n",
       "75%        5.000000    1.392854e+09\n",
       "max        5.000000    1.406074e+09"
      ]
     },
     "execution_count": 9,
     "metadata": {},
     "output_type": "execute_result"
    }
   ],
   "source": [
    "# Basic Statistics of the Dataset\n",
    "df.describe()"
   ]
  },
  {
   "cell_type": "code",
   "execution_count": 10,
   "metadata": {},
   "outputs": [
    {
     "data": {
      "text/plain": [
       "5.0    13342\n",
       "4.0     7919\n",
       "3.0     2897\n",
       "2.0      868\n",
       "1.0      419\n",
       "Name: overall, dtype: int64"
      ]
     },
     "execution_count": 10,
     "metadata": {},
     "output_type": "execute_result"
    }
   ],
   "source": [
    "# Customer totals for each rating \n",
    "df['overall'].value_counts()"
   ]
  },
  {
   "cell_type": "code",
   "execution_count": 11,
   "metadata": {},
   "outputs": [
    {
     "data": {
      "text/plain": [
       "reviewerID          0\n",
       "asin                0\n",
       "reviewerName      169\n",
       "helpful             0\n",
       "reviewText          0\n",
       "overall             0\n",
       "summary             0\n",
       "unixReviewTime      0\n",
       "reviewTime          0\n",
       "dtype: int64"
      ]
     },
     "execution_count": 11,
     "metadata": {},
     "output_type": "execute_result"
    }
   ],
   "source": [
    "# Check for missing values\n",
    "df.isnull().sum()"
   ]
  },
  {
   "cell_type": "markdown",
   "metadata": {},
   "source": [
    "### What we learned so far:\n",
    "\n",
    "Some information about dataset so far:\n",
    "\n",
    "This data includes 25445 rows(observations) and 9 columns(feature variables).\n",
    "\n",
    "Memory usage is 1.9+ MB.\n",
    "\n",
    "We have 7 object, 1 float64 and 1 int64 data types.\n",
    "\n",
    "169 'reviewerName' information is missing in the dataset. Since customer don't give their name, we should be suspicious about their reviews and ratings. I would prefer to drop the missing values from dataset since we have enough observations to conclude a decision for sentiment analysis.\n",
    "\n",
    "We should concatenate 'reviewText' and 'summary' since both of them gives information about product, and also drop both 'reviewText' and 'summary' column at the end.\n",
    "\n",
    "'helpful' variable includes positive and negative feedback for reviews' information, it will be splitted into two columns: positive feedback will be represented as \"pos_feedback\" , and negative feedback will be represented as \"neg_feedback\". Also, 'helpful' variable will be represented as an int64 type in the dataset via that step.\n",
    "\n",
    "We should classify the 'overall' (ratings) as good and bad in the new \"rating_class\" column in order to make sentiment analysis.\n",
    "\n",
    "In the dataset, 'reviewerID' and 'reviwerName' are both for identification of customer. We should drop one of them from the dataset. Preferably, I will drop 'reviewerName' since customer names are not standardized and there are lots of different sytle to represent them.\n",
    "\n",
    "'unixReviewTime' will be dropped since it has already been represented in 'reviewTime' feature in a more understandable format. Also, 'reviewTime' will be converted to datetime data type.\n",
    "\n",
    "We will rename the columns in order to improve practicality and the readibility of coding as stated below:\n",
    "\n",
    "**reviewerID :** \"customer\"\n",
    "\n",
    "**asin :** \"product\"\n",
    "\n",
    "**reviewerName :** column will be dropped.\n",
    "\n",
    "**helpful :** positive feedback will be represented as \"pos_feedback\" and negative feedback will be represented as \"neg_feedback\".\n",
    "\n",
    "**reviewText :** This will be concatenated with \"summary\" and renamed as \"review_text\"\n",
    "\n",
    "**overall :** \"rating\"\n",
    "\n",
    "**summary :** it will be dropped after it is concatenated with \"reviewerText\".\n",
    "\n",
    "**unixReviewTime :** column will be dropped.\n",
    "\n",
    "**reviewTime :** \"time\"\n",
    "\n",
    "Now, we will practice all defined action items above."
   ]
  },
  {
   "cell_type": "markdown",
   "metadata": {},
   "source": [
    "### Dropping Missing Values"
   ]
  },
  {
   "cell_type": "code",
   "execution_count": 12,
   "metadata": {},
   "outputs": [],
   "source": [
    "# Drop missing customers who don't give their names\n",
    "df2 = df.dropna(axis=0)"
   ]
  },
  {
   "cell_type": "code",
   "execution_count": 13,
   "metadata": {},
   "outputs": [
    {
     "data": {
      "text/plain": [
       "reviewerID        0\n",
       "asin              0\n",
       "reviewerName      0\n",
       "helpful           0\n",
       "reviewText        0\n",
       "overall           0\n",
       "summary           0\n",
       "unixReviewTime    0\n",
       "reviewTime        0\n",
       "dtype: int64"
      ]
     },
     "execution_count": 13,
     "metadata": {},
     "output_type": "execute_result"
    }
   ],
   "source": [
    "df2.isnull().sum()"
   ]
  },
  {
   "cell_type": "code",
   "execution_count": 14,
   "metadata": {},
   "outputs": [
    {
     "data": {
      "text/plain": [
       "(25276, 9)"
      ]
     },
     "execution_count": 14,
     "metadata": {},
     "output_type": "execute_result"
    }
   ],
   "source": [
    "df2.shape"
   ]
  },
  {
   "cell_type": "code",
   "execution_count": 15,
   "metadata": {},
   "outputs": [
    {
     "data": {
      "text/plain": [
       "5.0    13264\n",
       "4.0     7869\n",
       "3.0     2867\n",
       "2.0      861\n",
       "1.0      415\n",
       "Name: overall, dtype: int64"
      ]
     },
     "execution_count": 15,
     "metadata": {},
     "output_type": "execute_result"
    }
   ],
   "source": [
    "# Customer totals for each rating (after drop missing values)\n",
    "df2['overall'].value_counts()"
   ]
  },
  {
   "cell_type": "markdown",
   "metadata": {},
   "source": [
    "### Concatenating 'reviewText' and 'summary' columns"
   ]
  },
  {
   "cell_type": "code",
   "execution_count": 16,
   "metadata": {},
   "outputs": [
    {
     "data": {
      "text/html": [
       "<div>\n",
       "<style scoped>\n",
       "    .dataframe tbody tr th:only-of-type {\n",
       "        vertical-align: middle;\n",
       "    }\n",
       "\n",
       "    .dataframe tbody tr th {\n",
       "        vertical-align: top;\n",
       "    }\n",
       "\n",
       "    .dataframe thead th {\n",
       "        text-align: right;\n",
       "    }\n",
       "</style>\n",
       "<table border=\"1\" class=\"dataframe\">\n",
       "  <thead>\n",
       "    <tr style=\"text-align: right;\">\n",
       "      <th></th>\n",
       "      <th>reviewerID</th>\n",
       "      <th>asin</th>\n",
       "      <th>reviewerName</th>\n",
       "      <th>helpful</th>\n",
       "      <th>overall</th>\n",
       "      <th>unixReviewTime</th>\n",
       "      <th>reviewTime</th>\n",
       "      <th>review_text</th>\n",
       "    </tr>\n",
       "  </thead>\n",
       "  <tbody>\n",
       "    <tr>\n",
       "      <th>0</th>\n",
       "      <td>A1115ST6F5CWYP</td>\n",
       "      <td>B00000JGRT</td>\n",
       "      <td>Amalfi Coast Girl</td>\n",
       "      <td>[29, 33]</td>\n",
       "      <td>4.0</td>\n",
       "      <td>1148256000</td>\n",
       "      <td>05 22, 2006</td>\n",
       "      <td>good for a first ice cream machine I have had ...</td>\n",
       "    </tr>\n",
       "    <tr>\n",
       "      <th>1</th>\n",
       "      <td>A188JOXWF4EY1R</td>\n",
       "      <td>B00000JGRT</td>\n",
       "      <td>Ann B. Hibbard \"anbee\"</td>\n",
       "      <td>[4, 4]</td>\n",
       "      <td>4.0</td>\n",
       "      <td>1282176000</td>\n",
       "      <td>08 19, 2010</td>\n",
       "      <td>Wonderful Product! We actually found this prod...</td>\n",
       "    </tr>\n",
       "    <tr>\n",
       "      <th>2</th>\n",
       "      <td>AUAX1QWUCYKSX</td>\n",
       "      <td>B00000JGRT</td>\n",
       "      <td>Ashley S</td>\n",
       "      <td>[1, 1]</td>\n",
       "      <td>5.0</td>\n",
       "      <td>1243555200</td>\n",
       "      <td>05 29, 2009</td>\n",
       "      <td>Works as expected This product works great, if...</td>\n",
       "    </tr>\n",
       "    <tr>\n",
       "      <th>3</th>\n",
       "      <td>A2C27IQUH9N1Z</td>\n",
       "      <td>B00000JGRT</td>\n",
       "      <td>audrey</td>\n",
       "      <td>[12, 13]</td>\n",
       "      <td>5.0</td>\n",
       "      <td>1043712000</td>\n",
       "      <td>01 28, 2003</td>\n",
       "      <td>this will be one of your favorite small applia...</td>\n",
       "    </tr>\n",
       "    <tr>\n",
       "      <th>4</th>\n",
       "      <td>A2PN65B6BSTIYZ</td>\n",
       "      <td>B00000JGRT</td>\n",
       "      <td>B. A. Chaney</td>\n",
       "      <td>[1, 1]</td>\n",
       "      <td>5.0</td>\n",
       "      <td>1214179200</td>\n",
       "      <td>06 23, 2008</td>\n",
       "      <td>You'll be addicted to homemade ice cream! I bo...</td>\n",
       "    </tr>\n",
       "  </tbody>\n",
       "</table>\n",
       "</div>"
      ],
      "text/plain": [
       "       reviewerID        asin            reviewerName   helpful  overall  \\\n",
       "0  A1115ST6F5CWYP  B00000JGRT       Amalfi Coast Girl  [29, 33]      4.0   \n",
       "1  A188JOXWF4EY1R  B00000JGRT  Ann B. Hibbard \"anbee\"    [4, 4]      4.0   \n",
       "2   AUAX1QWUCYKSX  B00000JGRT                Ashley S    [1, 1]      5.0   \n",
       "3   A2C27IQUH9N1Z  B00000JGRT                  audrey  [12, 13]      5.0   \n",
       "4  A2PN65B6BSTIYZ  B00000JGRT            B. A. Chaney    [1, 1]      5.0   \n",
       "\n",
       "   unixReviewTime   reviewTime  \\\n",
       "0      1148256000  05 22, 2006   \n",
       "1      1282176000  08 19, 2010   \n",
       "2      1243555200  05 29, 2009   \n",
       "3      1043712000  01 28, 2003   \n",
       "4      1214179200  06 23, 2008   \n",
       "\n",
       "                                         review_text  \n",
       "0  good for a first ice cream machine I have had ...  \n",
       "1  Wonderful Product! We actually found this prod...  \n",
       "2  Works as expected This product works great, if...  \n",
       "3  this will be one of your favorite small applia...  \n",
       "4  You'll be addicted to homemade ice cream! I bo...  "
      ]
     },
     "execution_count": 16,
     "metadata": {},
     "output_type": "execute_result"
    }
   ],
   "source": [
    "# Concatenate 'reviewText' and 'summary' as review_text and drop them \n",
    "df2['review_text'] = df[['summary', 'reviewText']].apply(lambda x: \" \".join(str(y) for y in x if str(y) != 'nan'), axis = 1)\n",
    "df2 = df2.drop(['reviewText', 'summary'], axis = 1)\n",
    "df2.head()"
   ]
  },
  {
   "cell_type": "code",
   "execution_count": 17,
   "metadata": {},
   "outputs": [
    {
     "data": {
      "text/plain": [
       "'I think I should have stuck with my Cuisinart I bought this Food Chopper to replace an old Cuisinart that was starting to come apart at the blade.  So far, I am not impressed.  I attempted to make hummus and it kept freezing up.  I guess the beans were just too thick.  I tried to thin the beans out with olive oil, remove some, etc., and it still froze up and I did not have any more than the 3 cup limit in the food chopper.For the money, I should have stayed with another Cuisinart.  My Cuisinart held up for about 8 years before the blade stem starting splitting.  I may still order a Cuisinart and keep the Black & Decker for more liquid dishes.'"
      ]
     },
     "execution_count": 17,
     "metadata": {},
     "output_type": "execute_result"
    }
   ],
   "source": [
    "df2['review_text'][1001]"
   ]
  },
  {
   "cell_type": "markdown",
   "metadata": {},
   "source": [
    "### Spliting 'helpful' column into two separate columns"
   ]
  },
  {
   "cell_type": "code",
   "execution_count": 18,
   "metadata": {},
   "outputs": [
    {
     "data": {
      "text/html": [
       "<div>\n",
       "<style scoped>\n",
       "    .dataframe tbody tr th:only-of-type {\n",
       "        vertical-align: middle;\n",
       "    }\n",
       "\n",
       "    .dataframe tbody tr th {\n",
       "        vertical-align: top;\n",
       "    }\n",
       "\n",
       "    .dataframe thead th {\n",
       "        text-align: right;\n",
       "    }\n",
       "</style>\n",
       "<table border=\"1\" class=\"dataframe\">\n",
       "  <thead>\n",
       "    <tr style=\"text-align: right;\">\n",
       "      <th></th>\n",
       "      <th>reviewerID</th>\n",
       "      <th>asin</th>\n",
       "      <th>reviewerName</th>\n",
       "      <th>overall</th>\n",
       "      <th>unixReviewTime</th>\n",
       "      <th>reviewTime</th>\n",
       "      <th>review_text</th>\n",
       "      <th>pos_feedback</th>\n",
       "      <th>neg_feedback</th>\n",
       "    </tr>\n",
       "  </thead>\n",
       "  <tbody>\n",
       "    <tr>\n",
       "      <th>0</th>\n",
       "      <td>A1115ST6F5CWYP</td>\n",
       "      <td>B00000JGRT</td>\n",
       "      <td>Amalfi Coast Girl</td>\n",
       "      <td>4.0</td>\n",
       "      <td>1148256000</td>\n",
       "      <td>05 22, 2006</td>\n",
       "      <td>good for a first ice cream machine I have had ...</td>\n",
       "      <td>29</td>\n",
       "      <td>4</td>\n",
       "    </tr>\n",
       "    <tr>\n",
       "      <th>1</th>\n",
       "      <td>A188JOXWF4EY1R</td>\n",
       "      <td>B00000JGRT</td>\n",
       "      <td>Ann B. Hibbard \"anbee\"</td>\n",
       "      <td>4.0</td>\n",
       "      <td>1282176000</td>\n",
       "      <td>08 19, 2010</td>\n",
       "      <td>Wonderful Product! We actually found this prod...</td>\n",
       "      <td>4</td>\n",
       "      <td>0</td>\n",
       "    </tr>\n",
       "    <tr>\n",
       "      <th>2</th>\n",
       "      <td>AUAX1QWUCYKSX</td>\n",
       "      <td>B00000JGRT</td>\n",
       "      <td>Ashley S</td>\n",
       "      <td>5.0</td>\n",
       "      <td>1243555200</td>\n",
       "      <td>05 29, 2009</td>\n",
       "      <td>Works as expected This product works great, if...</td>\n",
       "      <td>1</td>\n",
       "      <td>0</td>\n",
       "    </tr>\n",
       "    <tr>\n",
       "      <th>3</th>\n",
       "      <td>A2C27IQUH9N1Z</td>\n",
       "      <td>B00000JGRT</td>\n",
       "      <td>audrey</td>\n",
       "      <td>5.0</td>\n",
       "      <td>1043712000</td>\n",
       "      <td>01 28, 2003</td>\n",
       "      <td>this will be one of your favorite small applia...</td>\n",
       "      <td>12</td>\n",
       "      <td>1</td>\n",
       "    </tr>\n",
       "    <tr>\n",
       "      <th>4</th>\n",
       "      <td>A2PN65B6BSTIYZ</td>\n",
       "      <td>B00000JGRT</td>\n",
       "      <td>B. A. Chaney</td>\n",
       "      <td>5.0</td>\n",
       "      <td>1214179200</td>\n",
       "      <td>06 23, 2008</td>\n",
       "      <td>You'll be addicted to homemade ice cream! I bo...</td>\n",
       "      <td>1</td>\n",
       "      <td>0</td>\n",
       "    </tr>\n",
       "  </tbody>\n",
       "</table>\n",
       "</div>"
      ],
      "text/plain": [
       "       reviewerID        asin            reviewerName  overall  \\\n",
       "0  A1115ST6F5CWYP  B00000JGRT       Amalfi Coast Girl      4.0   \n",
       "1  A188JOXWF4EY1R  B00000JGRT  Ann B. Hibbard \"anbee\"      4.0   \n",
       "2   AUAX1QWUCYKSX  B00000JGRT                Ashley S      5.0   \n",
       "3   A2C27IQUH9N1Z  B00000JGRT                  audrey      5.0   \n",
       "4  A2PN65B6BSTIYZ  B00000JGRT            B. A. Chaney      5.0   \n",
       "\n",
       "   unixReviewTime   reviewTime  \\\n",
       "0      1148256000  05 22, 2006   \n",
       "1      1282176000  08 19, 2010   \n",
       "2      1243555200  05 29, 2009   \n",
       "3      1043712000  01 28, 2003   \n",
       "4      1214179200  06 23, 2008   \n",
       "\n",
       "                                         review_text  pos_feedback  \\\n",
       "0  good for a first ice cream machine I have had ...            29   \n",
       "1  Wonderful Product! We actually found this prod...             4   \n",
       "2  Works as expected This product works great, if...             1   \n",
       "3  this will be one of your favorite small applia...            12   \n",
       "4  You'll be addicted to homemade ice cream! I bo...             1   \n",
       "\n",
       "   neg_feedback  \n",
       "0             4  \n",
       "1             0  \n",
       "2             0  \n",
       "3             1  \n",
       "4             0  "
      ]
     },
     "execution_count": 18,
     "metadata": {},
     "output_type": "execute_result"
    }
   ],
   "source": [
    "# Split 'helpful' column into 'neg_feedback' and 'pos_feedback' and drop it at the end\n",
    "\n",
    "list_positive = []\n",
    "list_negative = []\n",
    "\n",
    "for help in df2['helpful']:\n",
    "    list_positive.append(help[0])\n",
    "    list_negative.append(help[1] - help[0])\n",
    "    \n",
    "# Positive Feedback (Supporting reviewer's idea and find it useful)\n",
    "df2['pos_feedback'] = list_positive\n",
    "\n",
    "# Negative Feedback (Finding reviewer's idea useless and not supporting it)\n",
    "df2['neg_feedback'] = list_negative\n",
    "\n",
    "# Drop redundant 'helpful' column\n",
    "df2 = df2.drop('helpful', axis = 1)\n",
    "df2.head()"
   ]
  },
  {
   "cell_type": "markdown",
   "metadata": {},
   "source": [
    "### Classify the 'overall' (ratings) as good and bad"
   ]
  },
  {
   "cell_type": "code",
   "execution_count": 19,
   "metadata": {},
   "outputs": [
    {
     "name": "stdout",
     "output_type": "stream",
     "text": [
      "Good ratings : 24000 reviews for beauty products\n",
      "Bad ratings : 1276 reviews for beauty products\n"
     ]
    }
   ],
   "source": [
    "# Classify ratings as good\n",
    "good_rate = len(df2[df2['overall'] >= 3])\n",
    "bad_rate = len(df2[df2['overall'] < 3])\n",
    "\n",
    "# Printing rates and their total numbers\n",
    "print ('Good ratings : {} reviews for beauty products'.format(good_rate))\n",
    "print ('Bad ratings : {} reviews for beauty products'.format(bad_rate))"
   ]
  },
  {
   "cell_type": "code",
   "execution_count": 20,
   "metadata": {},
   "outputs": [
    {
     "data": {
      "text/html": [
       "<div>\n",
       "<style scoped>\n",
       "    .dataframe tbody tr th:only-of-type {\n",
       "        vertical-align: middle;\n",
       "    }\n",
       "\n",
       "    .dataframe tbody tr th {\n",
       "        vertical-align: top;\n",
       "    }\n",
       "\n",
       "    .dataframe thead th {\n",
       "        text-align: right;\n",
       "    }\n",
       "</style>\n",
       "<table border=\"1\" class=\"dataframe\">\n",
       "  <thead>\n",
       "    <tr style=\"text-align: right;\">\n",
       "      <th></th>\n",
       "      <th>reviewerID</th>\n",
       "      <th>asin</th>\n",
       "      <th>reviewerName</th>\n",
       "      <th>overall</th>\n",
       "      <th>unixReviewTime</th>\n",
       "      <th>reviewTime</th>\n",
       "      <th>review_text</th>\n",
       "      <th>pos_feedback</th>\n",
       "      <th>neg_feedback</th>\n",
       "      <th>rating_class</th>\n",
       "    </tr>\n",
       "  </thead>\n",
       "  <tbody>\n",
       "    <tr>\n",
       "      <th>0</th>\n",
       "      <td>A1115ST6F5CWYP</td>\n",
       "      <td>B00000JGRT</td>\n",
       "      <td>Amalfi Coast Girl</td>\n",
       "      <td>4.0</td>\n",
       "      <td>1148256000</td>\n",
       "      <td>05 22, 2006</td>\n",
       "      <td>good for a first ice cream machine I have had ...</td>\n",
       "      <td>29</td>\n",
       "      <td>4</td>\n",
       "      <td>good</td>\n",
       "    </tr>\n",
       "    <tr>\n",
       "      <th>1</th>\n",
       "      <td>A188JOXWF4EY1R</td>\n",
       "      <td>B00000JGRT</td>\n",
       "      <td>Ann B. Hibbard \"anbee\"</td>\n",
       "      <td>4.0</td>\n",
       "      <td>1282176000</td>\n",
       "      <td>08 19, 2010</td>\n",
       "      <td>Wonderful Product! We actually found this prod...</td>\n",
       "      <td>4</td>\n",
       "      <td>0</td>\n",
       "      <td>good</td>\n",
       "    </tr>\n",
       "    <tr>\n",
       "      <th>2</th>\n",
       "      <td>AUAX1QWUCYKSX</td>\n",
       "      <td>B00000JGRT</td>\n",
       "      <td>Ashley S</td>\n",
       "      <td>5.0</td>\n",
       "      <td>1243555200</td>\n",
       "      <td>05 29, 2009</td>\n",
       "      <td>Works as expected This product works great, if...</td>\n",
       "      <td>1</td>\n",
       "      <td>0</td>\n",
       "      <td>good</td>\n",
       "    </tr>\n",
       "    <tr>\n",
       "      <th>3</th>\n",
       "      <td>A2C27IQUH9N1Z</td>\n",
       "      <td>B00000JGRT</td>\n",
       "      <td>audrey</td>\n",
       "      <td>5.0</td>\n",
       "      <td>1043712000</td>\n",
       "      <td>01 28, 2003</td>\n",
       "      <td>this will be one of your favorite small applia...</td>\n",
       "      <td>12</td>\n",
       "      <td>1</td>\n",
       "      <td>good</td>\n",
       "    </tr>\n",
       "    <tr>\n",
       "      <th>4</th>\n",
       "      <td>A2PN65B6BSTIYZ</td>\n",
       "      <td>B00000JGRT</td>\n",
       "      <td>B. A. Chaney</td>\n",
       "      <td>5.0</td>\n",
       "      <td>1214179200</td>\n",
       "      <td>06 23, 2008</td>\n",
       "      <td>You'll be addicted to homemade ice cream! I bo...</td>\n",
       "      <td>1</td>\n",
       "      <td>0</td>\n",
       "      <td>good</td>\n",
       "    </tr>\n",
       "  </tbody>\n",
       "</table>\n",
       "</div>"
      ],
      "text/plain": [
       "       reviewerID        asin            reviewerName  overall  \\\n",
       "0  A1115ST6F5CWYP  B00000JGRT       Amalfi Coast Girl      4.0   \n",
       "1  A188JOXWF4EY1R  B00000JGRT  Ann B. Hibbard \"anbee\"      4.0   \n",
       "2   AUAX1QWUCYKSX  B00000JGRT                Ashley S      5.0   \n",
       "3   A2C27IQUH9N1Z  B00000JGRT                  audrey      5.0   \n",
       "4  A2PN65B6BSTIYZ  B00000JGRT            B. A. Chaney      5.0   \n",
       "\n",
       "   unixReviewTime   reviewTime  \\\n",
       "0      1148256000  05 22, 2006   \n",
       "1      1282176000  08 19, 2010   \n",
       "2      1243555200  05 29, 2009   \n",
       "3      1043712000  01 28, 2003   \n",
       "4      1214179200  06 23, 2008   \n",
       "\n",
       "                                         review_text  pos_feedback  \\\n",
       "0  good for a first ice cream machine I have had ...            29   \n",
       "1  Wonderful Product! We actually found this prod...             4   \n",
       "2  Works as expected This product works great, if...             1   \n",
       "3  this will be one of your favorite small applia...            12   \n",
       "4  You'll be addicted to homemade ice cream! I bo...             1   \n",
       "\n",
       "   neg_feedback rating_class  \n",
       "0             4         good  \n",
       "1             0         good  \n",
       "2             0         good  \n",
       "3             1         good  \n",
       "4             0         good  "
      ]
     },
     "execution_count": 20,
     "metadata": {},
     "output_type": "execute_result"
    }
   ],
   "source": [
    "# Apply the new classification to the ratings column\n",
    "df2['rating_class'] = df2['overall'].apply(lambda x: 'bad' if x < 3 else'good')\n",
    "df2.head()"
   ]
  },
  {
   "cell_type": "markdown",
   "metadata": {},
   "source": [
    "### Dropping duplicate columns about customer ('reviwerName') and time ('unixReviewTime)"
   ]
  },
  {
   "cell_type": "code",
   "execution_count": 21,
   "metadata": {},
   "outputs": [
    {
     "data": {
      "text/html": [
       "<div>\n",
       "<style scoped>\n",
       "    .dataframe tbody tr th:only-of-type {\n",
       "        vertical-align: middle;\n",
       "    }\n",
       "\n",
       "    .dataframe tbody tr th {\n",
       "        vertical-align: top;\n",
       "    }\n",
       "\n",
       "    .dataframe thead th {\n",
       "        text-align: right;\n",
       "    }\n",
       "</style>\n",
       "<table border=\"1\" class=\"dataframe\">\n",
       "  <thead>\n",
       "    <tr style=\"text-align: right;\">\n",
       "      <th></th>\n",
       "      <th>reviewerID</th>\n",
       "      <th>asin</th>\n",
       "      <th>overall</th>\n",
       "      <th>reviewTime</th>\n",
       "      <th>review_text</th>\n",
       "      <th>pos_feedback</th>\n",
       "      <th>neg_feedback</th>\n",
       "      <th>rating_class</th>\n",
       "    </tr>\n",
       "  </thead>\n",
       "  <tbody>\n",
       "    <tr>\n",
       "      <th>0</th>\n",
       "      <td>A1115ST6F5CWYP</td>\n",
       "      <td>B00000JGRT</td>\n",
       "      <td>4.0</td>\n",
       "      <td>05 22, 2006</td>\n",
       "      <td>good for a first ice cream machine I have had ...</td>\n",
       "      <td>29</td>\n",
       "      <td>4</td>\n",
       "      <td>good</td>\n",
       "    </tr>\n",
       "    <tr>\n",
       "      <th>1</th>\n",
       "      <td>A188JOXWF4EY1R</td>\n",
       "      <td>B00000JGRT</td>\n",
       "      <td>4.0</td>\n",
       "      <td>08 19, 2010</td>\n",
       "      <td>Wonderful Product! We actually found this prod...</td>\n",
       "      <td>4</td>\n",
       "      <td>0</td>\n",
       "      <td>good</td>\n",
       "    </tr>\n",
       "    <tr>\n",
       "      <th>2</th>\n",
       "      <td>AUAX1QWUCYKSX</td>\n",
       "      <td>B00000JGRT</td>\n",
       "      <td>5.0</td>\n",
       "      <td>05 29, 2009</td>\n",
       "      <td>Works as expected This product works great, if...</td>\n",
       "      <td>1</td>\n",
       "      <td>0</td>\n",
       "      <td>good</td>\n",
       "    </tr>\n",
       "    <tr>\n",
       "      <th>3</th>\n",
       "      <td>A2C27IQUH9N1Z</td>\n",
       "      <td>B00000JGRT</td>\n",
       "      <td>5.0</td>\n",
       "      <td>01 28, 2003</td>\n",
       "      <td>this will be one of your favorite small applia...</td>\n",
       "      <td>12</td>\n",
       "      <td>1</td>\n",
       "      <td>good</td>\n",
       "    </tr>\n",
       "    <tr>\n",
       "      <th>4</th>\n",
       "      <td>A2PN65B6BSTIYZ</td>\n",
       "      <td>B00000JGRT</td>\n",
       "      <td>5.0</td>\n",
       "      <td>06 23, 2008</td>\n",
       "      <td>You'll be addicted to homemade ice cream! I bo...</td>\n",
       "      <td>1</td>\n",
       "      <td>0</td>\n",
       "      <td>good</td>\n",
       "    </tr>\n",
       "  </tbody>\n",
       "</table>\n",
       "</div>"
      ],
      "text/plain": [
       "       reviewerID        asin  overall   reviewTime  \\\n",
       "0  A1115ST6F5CWYP  B00000JGRT      4.0  05 22, 2006   \n",
       "1  A188JOXWF4EY1R  B00000JGRT      4.0  08 19, 2010   \n",
       "2   AUAX1QWUCYKSX  B00000JGRT      5.0  05 29, 2009   \n",
       "3   A2C27IQUH9N1Z  B00000JGRT      5.0  01 28, 2003   \n",
       "4  A2PN65B6BSTIYZ  B00000JGRT      5.0  06 23, 2008   \n",
       "\n",
       "                                         review_text  pos_feedback  \\\n",
       "0  good for a first ice cream machine I have had ...            29   \n",
       "1  Wonderful Product! We actually found this prod...             4   \n",
       "2  Works as expected This product works great, if...             1   \n",
       "3  this will be one of your favorite small applia...            12   \n",
       "4  You'll be addicted to homemade ice cream! I bo...             1   \n",
       "\n",
       "   neg_feedback rating_class  \n",
       "0             4         good  \n",
       "1             0         good  \n",
       "2             0         good  \n",
       "3             1         good  \n",
       "4             0         good  "
      ]
     },
     "execution_count": 21,
     "metadata": {},
     "output_type": "execute_result"
    }
   ],
   "source": [
    "# Drop 'reviewName' and 'unixReviewTime'columns\n",
    "df2 = df2.drop(['reviewerName', 'unixReviewTime'], axis = 1)\n",
    "df2.head()"
   ]
  },
  {
   "cell_type": "markdown",
   "metadata": {},
   "source": [
    "### Arranging Time column"
   ]
  },
  {
   "cell_type": "code",
   "execution_count": 22,
   "metadata": {},
   "outputs": [
    {
     "data": {
      "text/html": [
       "<div>\n",
       "<style scoped>\n",
       "    .dataframe tbody tr th:only-of-type {\n",
       "        vertical-align: middle;\n",
       "    }\n",
       "\n",
       "    .dataframe tbody tr th {\n",
       "        vertical-align: top;\n",
       "    }\n",
       "\n",
       "    .dataframe thead th {\n",
       "        text-align: right;\n",
       "    }\n",
       "</style>\n",
       "<table border=\"1\" class=\"dataframe\">\n",
       "  <thead>\n",
       "    <tr style=\"text-align: right;\">\n",
       "      <th></th>\n",
       "      <th>reviewerID</th>\n",
       "      <th>asin</th>\n",
       "      <th>overall</th>\n",
       "      <th>review_text</th>\n",
       "      <th>pos_feedback</th>\n",
       "      <th>neg_feedback</th>\n",
       "      <th>rating_class</th>\n",
       "      <th>time</th>\n",
       "    </tr>\n",
       "  </thead>\n",
       "  <tbody>\n",
       "    <tr>\n",
       "      <th>0</th>\n",
       "      <td>A1115ST6F5CWYP</td>\n",
       "      <td>B00000JGRT</td>\n",
       "      <td>4.0</td>\n",
       "      <td>good for a first ice cream machine I have had ...</td>\n",
       "      <td>29</td>\n",
       "      <td>4</td>\n",
       "      <td>good</td>\n",
       "      <td>2006-05-22</td>\n",
       "    </tr>\n",
       "    <tr>\n",
       "      <th>1</th>\n",
       "      <td>A188JOXWF4EY1R</td>\n",
       "      <td>B00000JGRT</td>\n",
       "      <td>4.0</td>\n",
       "      <td>Wonderful Product! We actually found this prod...</td>\n",
       "      <td>4</td>\n",
       "      <td>0</td>\n",
       "      <td>good</td>\n",
       "      <td>2010-08-19</td>\n",
       "    </tr>\n",
       "    <tr>\n",
       "      <th>2</th>\n",
       "      <td>AUAX1QWUCYKSX</td>\n",
       "      <td>B00000JGRT</td>\n",
       "      <td>5.0</td>\n",
       "      <td>Works as expected This product works great, if...</td>\n",
       "      <td>1</td>\n",
       "      <td>0</td>\n",
       "      <td>good</td>\n",
       "      <td>2009-05-29</td>\n",
       "    </tr>\n",
       "    <tr>\n",
       "      <th>3</th>\n",
       "      <td>A2C27IQUH9N1Z</td>\n",
       "      <td>B00000JGRT</td>\n",
       "      <td>5.0</td>\n",
       "      <td>this will be one of your favorite small applia...</td>\n",
       "      <td>12</td>\n",
       "      <td>1</td>\n",
       "      <td>good</td>\n",
       "      <td>2003-01-28</td>\n",
       "    </tr>\n",
       "    <tr>\n",
       "      <th>4</th>\n",
       "      <td>A2PN65B6BSTIYZ</td>\n",
       "      <td>B00000JGRT</td>\n",
       "      <td>5.0</td>\n",
       "      <td>You'll be addicted to homemade ice cream! I bo...</td>\n",
       "      <td>1</td>\n",
       "      <td>0</td>\n",
       "      <td>good</td>\n",
       "      <td>2008-06-23</td>\n",
       "    </tr>\n",
       "  </tbody>\n",
       "</table>\n",
       "</div>"
      ],
      "text/plain": [
       "       reviewerID        asin  overall  \\\n",
       "0  A1115ST6F5CWYP  B00000JGRT      4.0   \n",
       "1  A188JOXWF4EY1R  B00000JGRT      4.0   \n",
       "2   AUAX1QWUCYKSX  B00000JGRT      5.0   \n",
       "3   A2C27IQUH9N1Z  B00000JGRT      5.0   \n",
       "4  A2PN65B6BSTIYZ  B00000JGRT      5.0   \n",
       "\n",
       "                                         review_text  pos_feedback  \\\n",
       "0  good for a first ice cream machine I have had ...            29   \n",
       "1  Wonderful Product! We actually found this prod...             4   \n",
       "2  Works as expected This product works great, if...             1   \n",
       "3  this will be one of your favorite small applia...            12   \n",
       "4  You'll be addicted to homemade ice cream! I bo...             1   \n",
       "\n",
       "   neg_feedback rating_class       time  \n",
       "0             4         good 2006-05-22  \n",
       "1             0         good 2010-08-19  \n",
       "2             0         good 2009-05-29  \n",
       "3             1         good 2003-01-28  \n",
       "4             0         good 2008-06-23  "
      ]
     },
     "execution_count": 22,
     "metadata": {},
     "output_type": "execute_result"
    }
   ],
   "source": [
    "# Convert time object to datetime and create a new column named 'time'\n",
    "df2['time'] = df2.reviewTime.str.replace(',', \"\")\n",
    "df2['time'] = pd.to_datetime(df2['time'], format = '%m %d %Y')\n",
    "\n",
    "# Drop redundant 'reviewTime' column\n",
    "df2 = df2.drop('reviewTime', axis = 1)\n",
    "df2.head()"
   ]
  },
  {
   "cell_type": "markdown",
   "metadata": {},
   "source": [
    "### Rename column names"
   ]
  },
  {
   "cell_type": "code",
   "execution_count": 23,
   "metadata": {},
   "outputs": [
    {
     "data": {
      "text/html": [
       "<div>\n",
       "<style scoped>\n",
       "    .dataframe tbody tr th:only-of-type {\n",
       "        vertical-align: middle;\n",
       "    }\n",
       "\n",
       "    .dataframe tbody tr th {\n",
       "        vertical-align: top;\n",
       "    }\n",
       "\n",
       "    .dataframe thead th {\n",
       "        text-align: right;\n",
       "    }\n",
       "</style>\n",
       "<table border=\"1\" class=\"dataframe\">\n",
       "  <thead>\n",
       "    <tr style=\"text-align: right;\">\n",
       "      <th></th>\n",
       "      <th>customer</th>\n",
       "      <th>product</th>\n",
       "      <th>rating</th>\n",
       "      <th>review_text</th>\n",
       "      <th>pos_feedback</th>\n",
       "      <th>neg_feedback</th>\n",
       "      <th>rating_class</th>\n",
       "      <th>time</th>\n",
       "    </tr>\n",
       "  </thead>\n",
       "  <tbody>\n",
       "    <tr>\n",
       "      <th>0</th>\n",
       "      <td>A1115ST6F5CWYP</td>\n",
       "      <td>B00000JGRT</td>\n",
       "      <td>4.0</td>\n",
       "      <td>good for a first ice cream machine I have had ...</td>\n",
       "      <td>29</td>\n",
       "      <td>4</td>\n",
       "      <td>good</td>\n",
       "      <td>2006-05-22</td>\n",
       "    </tr>\n",
       "    <tr>\n",
       "      <th>1</th>\n",
       "      <td>A188JOXWF4EY1R</td>\n",
       "      <td>B00000JGRT</td>\n",
       "      <td>4.0</td>\n",
       "      <td>Wonderful Product! We actually found this prod...</td>\n",
       "      <td>4</td>\n",
       "      <td>0</td>\n",
       "      <td>good</td>\n",
       "      <td>2010-08-19</td>\n",
       "    </tr>\n",
       "    <tr>\n",
       "      <th>2</th>\n",
       "      <td>AUAX1QWUCYKSX</td>\n",
       "      <td>B00000JGRT</td>\n",
       "      <td>5.0</td>\n",
       "      <td>Works as expected This product works great, if...</td>\n",
       "      <td>1</td>\n",
       "      <td>0</td>\n",
       "      <td>good</td>\n",
       "      <td>2009-05-29</td>\n",
       "    </tr>\n",
       "    <tr>\n",
       "      <th>3</th>\n",
       "      <td>A2C27IQUH9N1Z</td>\n",
       "      <td>B00000JGRT</td>\n",
       "      <td>5.0</td>\n",
       "      <td>this will be one of your favorite small applia...</td>\n",
       "      <td>12</td>\n",
       "      <td>1</td>\n",
       "      <td>good</td>\n",
       "      <td>2003-01-28</td>\n",
       "    </tr>\n",
       "    <tr>\n",
       "      <th>4</th>\n",
       "      <td>A2PN65B6BSTIYZ</td>\n",
       "      <td>B00000JGRT</td>\n",
       "      <td>5.0</td>\n",
       "      <td>You'll be addicted to homemade ice cream! I bo...</td>\n",
       "      <td>1</td>\n",
       "      <td>0</td>\n",
       "      <td>good</td>\n",
       "      <td>2008-06-23</td>\n",
       "    </tr>\n",
       "  </tbody>\n",
       "</table>\n",
       "</div>"
      ],
      "text/plain": [
       "         customer     product  rating  \\\n",
       "0  A1115ST6F5CWYP  B00000JGRT     4.0   \n",
       "1  A188JOXWF4EY1R  B00000JGRT     4.0   \n",
       "2   AUAX1QWUCYKSX  B00000JGRT     5.0   \n",
       "3   A2C27IQUH9N1Z  B00000JGRT     5.0   \n",
       "4  A2PN65B6BSTIYZ  B00000JGRT     5.0   \n",
       "\n",
       "                                         review_text  pos_feedback  \\\n",
       "0  good for a first ice cream machine I have had ...            29   \n",
       "1  Wonderful Product! We actually found this prod...             4   \n",
       "2  Works as expected This product works great, if...             1   \n",
       "3  this will be one of your favorite small applia...            12   \n",
       "4  You'll be addicted to homemade ice cream! I bo...             1   \n",
       "\n",
       "   neg_feedback rating_class       time  \n",
       "0             4         good 2006-05-22  \n",
       "1             0         good 2010-08-19  \n",
       "2             0         good 2009-05-29  \n",
       "3             1         good 2003-01-28  \n",
       "4             0         good 2008-06-23  "
      ]
     },
     "execution_count": 23,
     "metadata": {},
     "output_type": "execute_result"
    }
   ],
   "source": [
    "# Rename the columns\n",
    "df2.columns = ['customer', 'product', 'rating', 'review_text', 'pos_feedback', 'neg_feedback', 'rating_class', 'time']\n",
    "\n",
    "# Sample observation\n",
    "df2.head(5)"
   ]
  },
  {
   "cell_type": "markdown",
   "metadata": {},
   "source": [
    "### Descriptive Statistics"
   ]
  },
  {
   "cell_type": "code",
   "execution_count": 24,
   "metadata": {},
   "outputs": [
    {
     "data": {
      "text/html": [
       "<div>\n",
       "<style scoped>\n",
       "    .dataframe tbody tr th:only-of-type {\n",
       "        vertical-align: middle;\n",
       "    }\n",
       "\n",
       "    .dataframe tbody tr th {\n",
       "        vertical-align: top;\n",
       "    }\n",
       "\n",
       "    .dataframe thead th {\n",
       "        text-align: right;\n",
       "    }\n",
       "</style>\n",
       "<table border=\"1\" class=\"dataframe\">\n",
       "  <thead>\n",
       "    <tr style=\"text-align: right;\">\n",
       "      <th></th>\n",
       "      <th>rating</th>\n",
       "      <th>pos_feedback</th>\n",
       "      <th>neg_feedback</th>\n",
       "    </tr>\n",
       "  </thead>\n",
       "  <tbody>\n",
       "    <tr>\n",
       "      <th>count</th>\n",
       "      <td>25276.000000</td>\n",
       "      <td>25276.000000</td>\n",
       "      <td>25276.000000</td>\n",
       "    </tr>\n",
       "    <tr>\n",
       "      <th>mean</th>\n",
       "      <td>4.293955</td>\n",
       "      <td>5.253956</td>\n",
       "      <td>0.704977</td>\n",
       "    </tr>\n",
       "    <tr>\n",
       "      <th>std</th>\n",
       "      <td>0.914244</td>\n",
       "      <td>63.352885</td>\n",
       "      <td>3.006284</td>\n",
       "    </tr>\n",
       "    <tr>\n",
       "      <th>min</th>\n",
       "      <td>1.000000</td>\n",
       "      <td>0.000000</td>\n",
       "      <td>0.000000</td>\n",
       "    </tr>\n",
       "    <tr>\n",
       "      <th>25%</th>\n",
       "      <td>4.000000</td>\n",
       "      <td>0.000000</td>\n",
       "      <td>0.000000</td>\n",
       "    </tr>\n",
       "    <tr>\n",
       "      <th>50%</th>\n",
       "      <td>5.000000</td>\n",
       "      <td>1.000000</td>\n",
       "      <td>0.000000</td>\n",
       "    </tr>\n",
       "    <tr>\n",
       "      <th>75%</th>\n",
       "      <td>5.000000</td>\n",
       "      <td>2.000000</td>\n",
       "      <td>1.000000</td>\n",
       "    </tr>\n",
       "    <tr>\n",
       "      <th>max</th>\n",
       "      <td>5.000000</td>\n",
       "      <td>6128.000000</td>\n",
       "      <td>207.000000</td>\n",
       "    </tr>\n",
       "  </tbody>\n",
       "</table>\n",
       "</div>"
      ],
      "text/plain": [
       "             rating  pos_feedback  neg_feedback\n",
       "count  25276.000000  25276.000000  25276.000000\n",
       "mean       4.293955      5.253956      0.704977\n",
       "std        0.914244     63.352885      3.006284\n",
       "min        1.000000      0.000000      0.000000\n",
       "25%        4.000000      0.000000      0.000000\n",
       "50%        5.000000      1.000000      0.000000\n",
       "75%        5.000000      2.000000      1.000000\n",
       "max        5.000000   6128.000000    207.000000"
      ]
     },
     "execution_count": 24,
     "metadata": {},
     "output_type": "execute_result"
    }
   ],
   "source": [
    "# Read statistic summary of numeric variables\n",
    "df2.describe()"
   ]
  },
  {
   "cell_type": "code",
   "execution_count": 25,
   "metadata": {},
   "outputs": [
    {
     "data": {
      "text/plain": [
       "5.0    13264\n",
       "4.0     7869\n",
       "3.0     2867\n",
       "2.0      861\n",
       "1.0      415\n",
       "Name: rating, dtype: int64"
      ]
     },
     "execution_count": 25,
     "metadata": {},
     "output_type": "execute_result"
    }
   ],
   "source": [
    "# Customer totals for each rating \n",
    "df2['rating'].value_counts()"
   ]
  },
  {
   "cell_type": "code",
   "execution_count": 26,
   "metadata": {},
   "outputs": [
    {
     "data": {
      "text/plain": [
       "good    24000\n",
       "bad      1276\n",
       "Name: rating_class, dtype: int64"
      ]
     },
     "execution_count": 26,
     "metadata": {},
     "output_type": "execute_result"
    }
   ],
   "source": [
    "# Customer totals for each rating class\n",
    "df2['rating_class'].value_counts()"
   ]
  },
  {
   "cell_type": "code",
   "execution_count": 27,
   "metadata": {},
   "outputs": [
    {
     "name": "stdout",
     "output_type": "stream",
     "text": [
      "Number of positive feedbacks: 13298\n",
      "\n",
      "Number of negative feedbacks: 8147\n"
     ]
    }
   ],
   "source": [
    "# Print the number of positive feedback\n",
    "pos = len(df2[df2['pos_feedback'] > 0])\n",
    "print('Number of positive feedbacks: {}'.format(pos))\n",
    "\n",
    "# Print the number of negative feedback\n",
    "neg = len(df2[df2['neg_feedback'] > 0])      \n",
    "print('\\nNumber of negative feedbacks: {}'.format(neg))"
   ]
  },
  {
   "cell_type": "code",
   "execution_count": 28,
   "metadata": {},
   "outputs": [
    {
     "data": {
      "text/plain": [
       "(10230, 8)"
      ]
     },
     "execution_count": 28,
     "metadata": {},
     "output_type": "execute_result"
    }
   ],
   "source": [
    "df3 = df2[df2['pos_feedback'] == 0]\n",
    "df4 = df3[df3['neg_feedback']==0]\n",
    "df4.shape"
   ]
  },
  {
   "cell_type": "code",
   "execution_count": 29,
   "metadata": {},
   "outputs": [
    {
     "name": "stdout",
     "output_type": "stream",
     "text": [
      "\n",
      "Number of unique customers : 1395\n",
      "\n",
      "Number of unique products : 1171\n",
      "\n",
      "Review per customer: 18.11899641577061\n",
      "\n",
      "Review per product: 21.584970111016226\n"
     ]
    }
   ],
   "source": [
    "# Statistics of non-numeric variables\n",
    "\n",
    "# Number of unique customers\n",
    "print('\\nNumber of unique customers : {}'.format(len(df2['customer'].unique())))\n",
    "      \n",
    "# Number of unique products\n",
    "print('\\nNumber of unique products : {}'.format(len(df2['product'].unique())))\n",
    "      \n",
    "# Review number per unique customer\n",
    "print('\\nReview per customer: {}'.format((len(df2)/len(df2['customer'].unique()))))      \n",
    "\n",
    "# Review number per unique product \n",
    "print('\\nReview per product: {}'.format((len(df2)/len(df2['product'].unique()))))"
   ]
  },
  {
   "cell_type": "markdown",
   "metadata": {},
   "source": [
    "### Descriptive Statistic Summary:\n",
    "\n",
    "** - Rating Status:**\n",
    "\n",
    "28576 customer gives ratings and mean of the ratings is 4.17, which means that customers prefer to give high ratings for products. Standard deviation and percentiles also show that 1 and 2 ratings for products are rare. To be able to predict the ratings reasonably, we classified them as 'good', 'neutral', and 'bad' above.\n",
    "\n",
    "According to the statistics on rating stars:\n",
    "\n",
    "415 customers give 1 star\n",
    "\n",
    "861 customers give 2 stars\n",
    "\n",
    "2867 customers give 3 stars\n",
    "\n",
    "7869 customers give 4 stars\n",
    "\n",
    "13264 customers give 5 stars\n",
    "\n",
    "On the other hand, if we look for the rating class, the picture is look like below.\n",
    "\n",
    "1276 customers give bad ratings\n",
    "\n",
    "24000 customers give good ratings\n",
    "\n",
    "**- Feedback Status**\n",
    "\n",
    "13298 customers find the given reviews logical and totally agree with them. They give positive feedbacks. The mean 5.25 and standard deviation is 63.35 whereas the highest positive feedback number for reviews is 6128. \n",
    "\n",
    "8147 customers find the given reviews useless and don't aggree with the them. They give negative feedbacks. The mean 0.7 and standard deviation is 3.0 whereas the highest negative feedback number for reviews is 207.\n",
    "\n",
    "On the other hand 3831 customers don't give either positive or negative feedbacks for reviews. \n",
    "\n",
    "10230 customers don't give either positive or negative feedbacks for reviews.\n",
    "\n",
    "**- Non-numeric variables statistics:**\n",
    "\n",
    "We have 1395 unique customers and 1171 products in this dataset. Each customers averagely give 18 reviews for products and on the other hand, there is averagely 22 reviews for each product in the website.\n",
    "\n",
    "On exploratory data analysis, we will check if there is a case for outliers by visualizing data. "
   ]
  },
  {
   "cell_type": "markdown",
   "metadata": {},
   "source": [
    "### Text Preprocessing"
   ]
  },
  {
   "cell_type": "code",
   "execution_count": 30,
   "metadata": {},
   "outputs": [
    {
     "name": "stdout",
     "output_type": "stream",
     "text": [
      "[nltk_data] Downloading package punkt to\n",
      "[nltk_data]     C:\\Users\\User\\AppData\\Roaming\\nltk_data...\n",
      "[nltk_data]   Package punkt is already up-to-date!\n",
      "[nltk_data] Downloading package stopwords to\n",
      "[nltk_data]     C:\\Users\\User\\AppData\\Roaming\\nltk_data...\n",
      "[nltk_data]   Package stopwords is already up-to-date!\n",
      "[nltk_data] Downloading package wordnet to\n",
      "[nltk_data]     C:\\Users\\User\\AppData\\Roaming\\nltk_data...\n",
      "[nltk_data]   Package wordnet is already up-to-date!\n"
     ]
    }
   ],
   "source": [
    "import nltk\n",
    "nltk.download('punkt')\n",
    "nltk.download('stopwords')\n",
    "nltk.download('wordnet')\n",
    "from nltk.corpus import stopwords\n",
    "from bs4 import BeautifulSoup\n",
    "import unicodedata\n",
    "import contractions\n",
    "from nltk.stem import WordNetLemmatizer\n",
    "from nltk.tokenize import word_tokenize, sent_tokenize, regexp_tokenize \n",
    "from nltk.stem import PorterStemmer, WordNetLemmatizer\n",
    "import re"
   ]
  },
  {
   "cell_type": "code",
   "execution_count": 32,
   "metadata": {},
   "outputs": [
    {
     "name": "stdout",
     "output_type": "stream",
     "text": [
      "Number of raw tokens: 6623123\n"
     ]
    }
   ],
   "source": [
    "# Let's put aside number of raw tokens in order to measure of cleaned tokens\n",
    "from nltk.tokenize import word_tokenize\n",
    "raw_tokens=len([w for t in (df2[\"review_text\"].apply(word_tokenize)) for w in t])\n",
    "print('Number of raw tokens: {}'.format(raw_tokens))"
   ]
  },
  {
   "cell_type": "markdown",
   "metadata": {},
   "source": [
    "### Functions for Preprocessing"
   ]
  },
  {
   "cell_type": "code",
   "execution_count": 33,
   "metadata": {},
   "outputs": [],
   "source": [
    "# html_tags removal\n",
    "def strip_html_tags(text):\n",
    "    soup = BeautifulSoup(text, \"html.parser\")\n",
    "    stripped_text = soup.get_text()\n",
    "    return stripped_text\n",
    "\n",
    "# accented_chars removal\n",
    "def remove_accented_chars(text):\n",
    "    text = unicodedata.normalize('NFKD', text).encode('ascii', 'ignore').decode('utf-8', 'ignore')\n",
    "    return text\n",
    "\n",
    "# special_characters removal\n",
    "def remove_special_characters(text, remove_digits=False):\n",
    "    pattern = r'[^a-zA-z0-9\\s]' if not remove_digits else r'[^a-zA-z\\s]'\n",
    "    text = re.sub(pattern, '', text)\n",
    "    return text\n",
    "\n",
    "\n",
    "# Lemmatization\n",
    "lemmatizer=WordNetLemmatizer()\n",
    "def lemmatize_text(text):\n",
    "    text = \" \".join(lemmatizer.lemmatize(w) for w in text.split(' '))\n",
    "    return text\n",
    "\n",
    "# Creating stopwordlist and editing \n",
    "stopword_list= stopwords.words('english')\n",
    "    \n",
    "# \"no\" and \"not\" may give us information so those are removed from stop lists\n",
    "stopword_list.remove('no')\n",
    "stopword_list.remove('not')\n",
    "                     \n",
    "def remove_stopwords(text, stop_words=stopword_list):\n",
    "    tokens = [w for w in nltk.word_tokenize(text) if w not in stop_words]\n",
    "    return ' '.join(tokens)    \n",
    "\n",
    "                     \n",
    "\n",
    "def normalize_text(text, html_stripping=True, contraction_expansion=True,\n",
    "                     accented_char_removal=True, text_lower_case=True, \n",
    "                     text_lemmatization=True, special_char_removal=True, \n",
    "                     stopword_removal=True, remove_digits=True):\n",
    "    \n",
    "    # strip HTML\n",
    "    if html_stripping:\n",
    "        text = strip_html_tags(text)\n",
    "        \n",
    "    # expand contractions    \n",
    "    if contraction_expansion:\n",
    "        text = contractions.fix(text)\n",
    "        \n",
    "        # remove accented characters\n",
    "    if accented_char_removal:\n",
    "        text = remove_accented_chars(text)\n",
    "\n",
    "    # lowercase the text    \n",
    "    if text_lower_case:\n",
    "        text = text.lower()\n",
    "    \n",
    "    # remove extra newlines\n",
    "    text = re.sub(r'[\\r|\\n|\\r\\n]+', ' ',text)\n",
    "    \n",
    "    # remove special characters and\\or digits    \n",
    "    if special_char_removal:\n",
    "        # insert spaces between special characters to isolate them    \n",
    "        special_char_pattern = re.compile(r'([{.(-)!}])')\n",
    "        text = special_char_pattern.sub(\" \\\\1 \", text)\n",
    "        text = remove_special_characters(text, remove_digits=remove_digits)  \n",
    "    \n",
    "    # remove extra whitespace and underscore\n",
    "    text = re.sub(' +', ' ', text)\n",
    "    text = re.sub('_+', '', text)\n",
    "    \n",
    "    # lemmatize text\n",
    "    if text_lemmatization:\n",
    "        text = lemmatize_text(text)\n",
    "        \n",
    "    # remove stopwords\n",
    "    if stopword_removal:\n",
    "        text = remove_stopwords(text)\n",
    "       \n",
    "    return text"
   ]
  },
  {
   "cell_type": "markdown",
   "metadata": {},
   "source": [
    "### Cleaning the Text"
   ]
  },
  {
   "cell_type": "code",
   "execution_count": 34,
   "metadata": {},
   "outputs": [],
   "source": [
    "df2['clean_text'] = df2['review_text'].map(lambda text: normalize_text(text))"
   ]
  },
  {
   "cell_type": "code",
   "execution_count": 35,
   "metadata": {},
   "outputs": [
    {
     "name": "stdout",
     "output_type": "stream",
     "text": [
      "Number of clean tokens: 3070479\n",
      "\n",
      "Percentage of removed tokens: 0.54\n"
     ]
    }
   ],
   "source": [
    "# Let's put aside number of raw tokens in order to measure of cleaned tokens\n",
    "from nltk.tokenize import word_tokenize\n",
    "clean_tokens=len([w for t in (df2[\"clean_text\"].apply(word_tokenize)) for w in t])\n",
    "print('Number of clean tokens: {}\\n'.format(clean_tokens))\n",
    "print('Percentage of removed tokens: {0:.2f}'.format(1-(clean_tokens/raw_tokens)))"
   ]
  },
  {
   "cell_type": "markdown",
   "metadata": {},
   "source": [
    "### Saving the cleaned data"
   ]
  },
  {
   "cell_type": "code",
   "execution_count": 36,
   "metadata": {},
   "outputs": [],
   "source": [
    "df2.to_csv('D:\\GENEL\\SPRINGBOARD\\PROJECTS\\CAPSTONE PROJECTS\\CAPSTONE PROJECT-2/Cleaned_Reviews_Home_and_Kitchen.csv', sep=',', encoding='utf-8', index = False)"
   ]
  },
  {
   "cell_type": "code",
   "execution_count": null,
   "metadata": {},
   "outputs": [],
   "source": []
  }
 ],
 "metadata": {
  "kernelspec": {
   "display_name": "Python 3",
   "language": "python",
   "name": "python3"
  },
  "language_info": {
   "codemirror_mode": {
    "name": "ipython",
    "version": 3
   },
   "file_extension": ".py",
   "mimetype": "text/x-python",
   "name": "python",
   "nbconvert_exporter": "python",
   "pygments_lexer": "ipython3",
   "version": "3.6.5"
  }
 },
 "nbformat": 4,
 "nbformat_minor": 2
}
